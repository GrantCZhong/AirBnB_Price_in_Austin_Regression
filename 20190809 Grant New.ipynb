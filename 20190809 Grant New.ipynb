{
 "cells": [
  {
   "cell_type": "code",
   "execution_count": 1,
   "metadata": {},
   "outputs": [
    {
     "name": "stdout",
     "output_type": "stream",
     "text": [
      "Populating the interactive namespace from numpy and matplotlib\n"
     ]
    }
   ],
   "source": [
    "from pandas import Series, DataFrame\n",
    "import pandas as pd\n",
    "%pylab inline\n",
    "import seaborn as sns"
   ]
  },
  {
   "cell_type": "markdown",
   "metadata": {
    "scrolled": true
   },
   "source": [
    "## Set up data"
   ]
  },
  {
   "cell_type": "code",
   "execution_count": 2,
   "metadata": {},
   "outputs": [
    {
     "name": "stdout",
     "output_type": "stream",
     "text": [
      "['average_rate($)' 'num_of_bedrooms' 'title_word_count' 'city'\n",
      " 'date_of_listing' 'description' 'title' 'url' 'Listing Month'\n",
      " 'Listing Year' 'Zipcode']\n",
      "(1819, 11)\n"
     ]
    }
   ],
   "source": [
    "df = pd.read_csv('New_AirBnB_Austin.csv')\n",
    "df = df.drop(['Unnamed: 0'],axis=1)\n",
    "print df.columns.values\n",
    "print df.shape # <- The dataset has 1819 rows (for Austin metro area), 11 columns (including Zipcode and title word count)"
   ]
  },
  {
   "cell_type": "code",
   "execution_count": 3,
   "metadata": {},
   "outputs": [
    {
     "name": "stdout",
     "output_type": "stream",
     "text": [
      "average_rate($)                                                   260\n",
      "num_of_bedrooms                                                     2\n",
      "title_word_count                                                    1\n",
      "city                                                           Austin\n",
      "date_of_listing                                             July 2013\n",
      "description         Hi.New.Lovely country-house.Perfect long/short...\n",
      "title               2BRHouse/3.5Miles/F1-COTA/Short/LongTermRates/...\n",
      "url                 https://www.airbnb.com/rooms/1722387?location=...\n",
      "Listing Month                                                    July\n",
      "Listing Year                                                     2013\n",
      "Zipcode                                                       [78617]\n",
      "Name: 49, dtype: object\n",
      "average_rate($)                                                   260\n",
      "num_of_bedrooms                                                     2\n",
      "title_word_count                                                    1\n",
      "city                                                           Austin\n",
      "date_of_listing                                             July 2013\n",
      "description         Hi.New.Lovely country-house.Perfect long/short...\n",
      "title               2BRHouse/3.5Miles/F1-COTA/Short/LongTermRates/...\n",
      "url                 https://www.airbnb.com/rooms/1722387?location=...\n",
      "Listing Month                                                    July\n",
      "Listing Year                                                     2013\n",
      "Zipcode                                                       [78617]\n",
      "Name: 1705, dtype: object\n"
     ]
    }
   ],
   "source": [
    "# There are some duplicates in the dataset - should drop duplicates on description and zip (urls can be different)\n",
    "print df.iloc[49]\n",
    "print df.iloc[1705]"
   ]
  },
  {
   "cell_type": "code",
   "execution_count": 4,
   "metadata": {},
   "outputs": [
    {
     "data": {
      "text/plain": [
       "1362"
      ]
     },
     "execution_count": 4,
     "metadata": {},
     "output_type": "execute_result"
    }
   ],
   "source": [
    "# Drop duplicate listings\n",
    "df = df.drop_duplicates(subset = ['description','Zipcode'])\n",
    "len(df)"
   ]
  },
  {
   "cell_type": "code",
   "execution_count": 5,
   "metadata": {},
   "outputs": [
    {
     "data": {
      "text/html": [
       "<div>\n",
       "<style scoped>\n",
       "    .dataframe tbody tr th:only-of-type {\n",
       "        vertical-align: middle;\n",
       "    }\n",
       "\n",
       "    .dataframe tbody tr th {\n",
       "        vertical-align: top;\n",
       "    }\n",
       "\n",
       "    .dataframe thead th {\n",
       "        text-align: right;\n",
       "    }\n",
       "</style>\n",
       "<table border=\"1\" class=\"dataframe\">\n",
       "  <thead>\n",
       "    <tr style=\"text-align: right;\">\n",
       "      <th></th>\n",
       "      <th>average_rate($)</th>\n",
       "      <th>num_of_bedrooms</th>\n",
       "      <th>title_word_count</th>\n",
       "      <th>city</th>\n",
       "      <th>date_of_listing</th>\n",
       "      <th>description</th>\n",
       "      <th>title</th>\n",
       "      <th>url</th>\n",
       "      <th>Listing Month</th>\n",
       "      <th>Listing Year</th>\n",
       "      <th>Zipcode</th>\n",
       "    </tr>\n",
       "  </thead>\n",
       "  <tbody>\n",
       "    <tr>\n",
       "      <th>0</th>\n",
       "      <td>82</td>\n",
       "      <td>2</td>\n",
       "      <td>6</td>\n",
       "      <td>Austin</td>\n",
       "      <td>December 2015</td>\n",
       "      <td>Cute two bedroom with lots of windows, sunny b...</td>\n",
       "      <td>Cosy 2 Bedroom in Hyde Park!</td>\n",
       "      <td>https://www.airbnb.com/rooms/18550276?location...</td>\n",
       "      <td>December</td>\n",
       "      <td>2015</td>\n",
       "      <td>78751</td>\n",
       "    </tr>\n",
       "    <tr>\n",
       "      <th>1</th>\n",
       "      <td>110</td>\n",
       "      <td>1</td>\n",
       "      <td>4</td>\n",
       "      <td>Austin</td>\n",
       "      <td>September 2015</td>\n",
       "      <td>Comfortable Traditional Interior Furniture in ...</td>\n",
       "      <td>Fabulous Central Austin Condo!</td>\n",
       "      <td>https://www.airbnb.com/rooms/13571814?location...</td>\n",
       "      <td>September</td>\n",
       "      <td>2015</td>\n",
       "      <td>78704</td>\n",
       "    </tr>\n",
       "  </tbody>\n",
       "</table>\n",
       "</div>"
      ],
      "text/plain": [
       "   average_rate($)  num_of_bedrooms  title_word_count    city date_of_listing  \\\n",
       "0               82                2                 6  Austin   December 2015   \n",
       "1              110                1                 4  Austin  September 2015   \n",
       "\n",
       "                                         description  \\\n",
       "0  Cute two bedroom with lots of windows, sunny b...   \n",
       "1  Comfortable Traditional Interior Furniture in ...   \n",
       "\n",
       "                            title  \\\n",
       "0    Cosy 2 Bedroom in Hyde Park!   \n",
       "1  Fabulous Central Austin Condo!   \n",
       "\n",
       "                                                 url Listing Month  \\\n",
       "0  https://www.airbnb.com/rooms/18550276?location...      December   \n",
       "1  https://www.airbnb.com/rooms/13571814?location...     September   \n",
       "\n",
       "   Listing Year Zipcode  \n",
       "0          2015   78751  \n",
       "1          2015   78704  "
      ]
     },
     "execution_count": 5,
     "metadata": {},
     "output_type": "execute_result"
    }
   ],
   "source": [
    "# Zipcode cleanup and converting bedroom count type\n",
    "df['Zipcode'] = df['Zipcode'].str[1:-1]\n",
    "df['num_of_bedrooms'] = df['num_of_bedrooms'].astype(int)\n",
    "df[:2]"
   ]
  },
  {
   "cell_type": "code",
   "execution_count": 6,
   "metadata": {},
   "outputs": [
    {
     "data": {
      "text/html": [
       "<div>\n",
       "<style scoped>\n",
       "    .dataframe tbody tr th:only-of-type {\n",
       "        vertical-align: middle;\n",
       "    }\n",
       "\n",
       "    .dataframe tbody tr th {\n",
       "        vertical-align: top;\n",
       "    }\n",
       "\n",
       "    .dataframe thead th {\n",
       "        text-align: right;\n",
       "    }\n",
       "</style>\n",
       "<table border=\"1\" class=\"dataframe\">\n",
       "  <thead>\n",
       "    <tr style=\"text-align: right;\">\n",
       "      <th></th>\n",
       "      <th>average_rate($)</th>\n",
       "      <th>num_of_bedrooms</th>\n",
       "      <th>title_word_count</th>\n",
       "      <th>description_word_count</th>\n",
       "      <th>city</th>\n",
       "      <th>date_of_listing</th>\n",
       "      <th>description</th>\n",
       "      <th>title</th>\n",
       "      <th>url</th>\n",
       "      <th>Listing Month</th>\n",
       "      <th>Listing Year</th>\n",
       "      <th>Zipcode</th>\n",
       "    </tr>\n",
       "  </thead>\n",
       "  <tbody>\n",
       "    <tr>\n",
       "      <th>0</th>\n",
       "      <td>82</td>\n",
       "      <td>2</td>\n",
       "      <td>6</td>\n",
       "      <td>29</td>\n",
       "      <td>Austin</td>\n",
       "      <td>December 2015</td>\n",
       "      <td>Cute two bedroom with lots of windows, sunny b...</td>\n",
       "      <td>Cosy 2 Bedroom in Hyde Park!</td>\n",
       "      <td>https://www.airbnb.com/rooms/18550276?location...</td>\n",
       "      <td>December</td>\n",
       "      <td>2015</td>\n",
       "      <td>78751</td>\n",
       "    </tr>\n",
       "    <tr>\n",
       "      <th>1</th>\n",
       "      <td>110</td>\n",
       "      <td>1</td>\n",
       "      <td>4</td>\n",
       "      <td>42</td>\n",
       "      <td>Austin</td>\n",
       "      <td>September 2015</td>\n",
       "      <td>Comfortable Traditional Interior Furniture in ...</td>\n",
       "      <td>Fabulous Central Austin Condo!</td>\n",
       "      <td>https://www.airbnb.com/rooms/13571814?location...</td>\n",
       "      <td>September</td>\n",
       "      <td>2015</td>\n",
       "      <td>78704</td>\n",
       "    </tr>\n",
       "  </tbody>\n",
       "</table>\n",
       "</div>"
      ],
      "text/plain": [
       "   average_rate($)  num_of_bedrooms  title_word_count  description_word_count  \\\n",
       "0               82                2                 6                      29   \n",
       "1              110                1                 4                      42   \n",
       "\n",
       "     city date_of_listing                                        description  \\\n",
       "0  Austin   December 2015  Cute two bedroom with lots of windows, sunny b...   \n",
       "1  Austin  September 2015  Comfortable Traditional Interior Furniture in ...   \n",
       "\n",
       "                            title  \\\n",
       "0    Cosy 2 Bedroom in Hyde Park!   \n",
       "1  Fabulous Central Austin Condo!   \n",
       "\n",
       "                                                 url Listing Month  \\\n",
       "0  https://www.airbnb.com/rooms/18550276?location...      December   \n",
       "1  https://www.airbnb.com/rooms/13571814?location...     September   \n",
       "\n",
       "   Listing Year Zipcode  \n",
       "0          2015   78751  \n",
       "1          2015   78704  "
      ]
     },
     "execution_count": 6,
     "metadata": {},
     "output_type": "execute_result"
    }
   ],
   "source": [
    "#Get word count for description\n",
    "def word_count(str):\n",
    "    return len(str.split())\n",
    "df['description_word_count'] = df['description'].map(word_count)\n",
    "\n",
    "columns = df.columns.tolist()\n",
    "columns.insert(3, columns[len(columns)-1])\n",
    "df = df[columns[:-1]]\n",
    "df[:2]"
   ]
  },
  {
   "cell_type": "markdown",
   "metadata": {},
   "source": [
    "## Summary stats for paper"
   ]
  },
  {
   "cell_type": "code",
   "execution_count": 7,
   "metadata": {},
   "outputs": [
    {
     "data": {
      "text/html": [
       "<div>\n",
       "<style scoped>\n",
       "    .dataframe tbody tr th:only-of-type {\n",
       "        vertical-align: middle;\n",
       "    }\n",
       "\n",
       "    .dataframe tbody tr th {\n",
       "        vertical-align: top;\n",
       "    }\n",
       "\n",
       "    .dataframe thead th {\n",
       "        text-align: right;\n",
       "    }\n",
       "</style>\n",
       "<table border=\"1\" class=\"dataframe\">\n",
       "  <thead>\n",
       "    <tr style=\"text-align: right;\">\n",
       "      <th></th>\n",
       "      <th>average_rate($)</th>\n",
       "      <th>num_of_bedrooms</th>\n",
       "      <th>title_word_count</th>\n",
       "      <th>description_word_count</th>\n",
       "      <th>Listing Year</th>\n",
       "    </tr>\n",
       "  </thead>\n",
       "  <tbody>\n",
       "    <tr>\n",
       "      <th>count</th>\n",
       "      <td>1362.000000</td>\n",
       "      <td>1362.000000</td>\n",
       "      <td>1362.000000</td>\n",
       "      <td>1362.000000</td>\n",
       "      <td>1362.000000</td>\n",
       "    </tr>\n",
       "    <tr>\n",
       "      <th>mean</th>\n",
       "      <td>159.265786</td>\n",
       "      <td>1.522761</td>\n",
       "      <td>5.646109</td>\n",
       "      <td>57.220264</td>\n",
       "      <td>2014.375918</td>\n",
       "    </tr>\n",
       "    <tr>\n",
       "      <th>std</th>\n",
       "      <td>278.880700</td>\n",
       "      <td>1.132576</td>\n",
       "      <td>1.957938</td>\n",
       "      <td>54.560376</td>\n",
       "      <td>1.820273</td>\n",
       "    </tr>\n",
       "    <tr>\n",
       "      <th>min</th>\n",
       "      <td>16.000000</td>\n",
       "      <td>0.000000</td>\n",
       "      <td>1.000000</td>\n",
       "      <td>1.000000</td>\n",
       "      <td>2009.000000</td>\n",
       "    </tr>\n",
       "    <tr>\n",
       "      <th>25%</th>\n",
       "      <td>50.000000</td>\n",
       "      <td>1.000000</td>\n",
       "      <td>4.000000</td>\n",
       "      <td>37.000000</td>\n",
       "      <td>2013.000000</td>\n",
       "    </tr>\n",
       "    <tr>\n",
       "      <th>50%</th>\n",
       "      <td>90.000000</td>\n",
       "      <td>1.000000</td>\n",
       "      <td>6.000000</td>\n",
       "      <td>47.000000</td>\n",
       "      <td>2015.000000</td>\n",
       "    </tr>\n",
       "    <tr>\n",
       "      <th>75%</th>\n",
       "      <td>150.000000</td>\n",
       "      <td>2.000000</td>\n",
       "      <td>7.000000</td>\n",
       "      <td>73.000000</td>\n",
       "      <td>2016.000000</td>\n",
       "    </tr>\n",
       "    <tr>\n",
       "      <th>max</th>\n",
       "      <td>4500.000000</td>\n",
       "      <td>10.000000</td>\n",
       "      <td>12.000000</td>\n",
       "      <td>902.000000</td>\n",
       "      <td>2017.000000</td>\n",
       "    </tr>\n",
       "  </tbody>\n",
       "</table>\n",
       "</div>"
      ],
      "text/plain": [
       "       average_rate($)  num_of_bedrooms  title_word_count  \\\n",
       "count      1362.000000      1362.000000       1362.000000   \n",
       "mean        159.265786         1.522761          5.646109   \n",
       "std         278.880700         1.132576          1.957938   \n",
       "min          16.000000         0.000000          1.000000   \n",
       "25%          50.000000         1.000000          4.000000   \n",
       "50%          90.000000         1.000000          6.000000   \n",
       "75%         150.000000         2.000000          7.000000   \n",
       "max        4500.000000        10.000000         12.000000   \n",
       "\n",
       "       description_word_count  Listing Year  \n",
       "count             1362.000000   1362.000000  \n",
       "mean                57.220264   2014.375918  \n",
       "std                 54.560376      1.820273  \n",
       "min                  1.000000   2009.000000  \n",
       "25%                 37.000000   2013.000000  \n",
       "50%                 47.000000   2015.000000  \n",
       "75%                 73.000000   2016.000000  \n",
       "max                902.000000   2017.000000  "
      ]
     },
     "execution_count": 7,
     "metadata": {},
     "output_type": "execute_result"
    }
   ],
   "source": [
    "df.describe()"
   ]
  },
  {
   "cell_type": "markdown",
   "metadata": {},
   "source": [
    "## Exploratory Analysis"
   ]
  },
  {
   "cell_type": "markdown",
   "metadata": {},
   "source": [
    "**Outlier identification**"
   ]
  },
  {
   "cell_type": "code",
   "execution_count": 8,
   "metadata": {},
   "outputs": [
    {
     "data": {
      "text/plain": [
       "<matplotlib.collections.PathCollection at 0x1a198cbc90>"
      ]
     },
     "execution_count": 8,
     "metadata": {},
     "output_type": "execute_result"
    },
    {
     "data": {
      "image/png": "[encoded data removed]",
      "text/plain": [
       "<Figure size 432x288 with 1 Axes>"
      ]
     },
     "metadata": {
      "needs_background": "light"
     },
     "output_type": "display_data"
    }
   ],
   "source": [
    "# Scatterplot of rates (for rate frequencies)\n",
    "scatter(df.index, df['average_rate($)'], s=10)\n",
    "# Three homes are at or above $3k. Quite a few are way above the population.\n",
    "# Exclude anything above 2 stdev away from the mean for our analysis"
   ]
  },
  {
   "cell_type": "code",
   "execution_count": 9,
   "metadata": {},
   "outputs": [
    {
     "name": "stdout",
     "output_type": "stream",
     "text": [
      "1303\n"
     ]
    },
    {
     "data": {
      "text/plain": [
       "<matplotlib.collections.PathCollection at 0x1a19a35c50>"
      ]
     },
     "execution_count": 9,
     "metadata": {},
     "output_type": "execute_result"
    },
    {
     "data": {
      "image/png": "[encoded data removed]",
      "text/plain": [
       "<Figure size 432x288 with 1 Axes>"
      ]
     },
     "metadata": {
      "needs_background": "light"
     },
     "output_type": "display_data"
    }
   ],
   "source": [
    "df2 = df[df['average_rate($)'] < 2*df.describe().iloc[2][0]] # trimmed\n",
    "print len(df2) #1302 (61 got dropped)\n",
    "scatter(df2.index, df2['average_rate($)'], s=10)"
   ]
  },
  {
   "cell_type": "code",
   "execution_count": 10,
   "metadata": {
    "scrolled": true
   },
   "outputs": [
    {
     "data": {
      "text/plain": [
       "Text(0,0.5,'Freq Of Rate')"
      ]
     },
     "execution_count": 10,
     "metadata": {},
     "output_type": "execute_result"
    },
    {
     "data": {
      "image/png": "[encoded data removed]",
      "text/plain": [
       "<Figure size 432x288 with 1 Axes>"
      ]
     },
     "metadata": {
      "needs_background": "light"
     },
     "output_type": "display_data"
    }
   ],
   "source": [
    "# Histogram of average rates, excluding those > 2 stdev\n",
    "df2['average_rate($)'].hist()\n",
    "xlabel('Average Rate Per Night ($)')\n",
    "ylabel('Freq Of Rate')"
   ]
  },
  {
   "cell_type": "markdown",
   "metadata": {},
   "source": [
    "## Trend and Seasonality Analysis"
   ]
  },
  {
   "cell_type": "code",
   "execution_count": 11,
   "metadata": {},
   "outputs": [],
   "source": [
    "mask = df2['Listing Year'] != 2017"
   ]
  },
  {
   "cell_type": "code",
   "execution_count": 12,
   "metadata": {},
   "outputs": [
    {
     "data": {
      "text/plain": [
       "Text(0.5,1,'Listings in Austin by Year')"
      ]
     },
     "execution_count": 12,
     "metadata": {},
     "output_type": "execute_result"
    },
    {
     "data": {
      "image/png": "[encoded data removed]",
      "text/plain": [
       "<Figure size 432x288 with 1 Axes>"
      ]
     },
     "metadata": {
      "needs_background": "light"
     },
     "output_type": "display_data"
    }
   ],
   "source": [
    "growth_austin = df2[mask]['Listing Year'].value_counts(ascending = True)\n",
    "growth_austin.plot(kind = 'bar')\n",
    "xlabel('Listing Year')\n",
    "ylabel('Number of Listings')\n",
    "title('Listings in Austin by Year') #We had incomplete data for 2017"
   ]
  },
  {
   "cell_type": "code",
   "execution_count": 13,
   "metadata": {},
   "outputs": [],
   "source": [
    "g_factor = growth_austin.shift(-1)\n",
    "growth_percent = ((g_factor - growth_austin)/growth_austin*100).shift(1).dropna()\n",
    "dfGrowth = DataFrame(growth_percent)\n",
    "dfGrowth['Year'] = dfGrowth.index.values"
   ]
  },
  {
   "cell_type": "code",
   "execution_count": 14,
   "metadata": {},
   "outputs": [
    {
     "data": {
      "text/plain": [
       "Text(0.5,1,'Annual Listing Growth in Austin')"
      ]
     },
     "execution_count": 14,
     "metadata": {},
     "output_type": "execute_result"
    },
    {
     "data": {
      "image/png": "[encoded data removed]",
      "text/plain": [
       "<Figure size 432x288 with 1 Axes>"
      ]
     },
     "metadata": {
      "needs_background": "light"
     },
     "output_type": "display_data"
    }
   ],
   "source": [
    "dfGrowth['Listing Year'].plot(kind = 'bar')\n",
    "xlabel('Listing Year')\n",
    "ylabel('Growth (%)')\n",
    "title('Annual Listing Growth in Austin')"
   ]
  },
  {
   "cell_type": "code",
   "execution_count": 15,
   "metadata": {},
   "outputs": [
    {
     "data": {
      "text/plain": [
       "Text(0.5,1,'Total Listings in Austin by Month')"
      ]
     },
     "execution_count": 15,
     "metadata": {},
     "output_type": "execute_result"
    },
    {
     "data": {
      "image/png": "[encoded data removed]",
      "text/plain": [
       "<Figure size 432x288 with 1 Axes>"
      ]
     },
     "metadata": {
      "needs_background": "light"
     },
     "output_type": "display_data"
    }
   ],
   "source": [
    "# Monthly listing difference\n",
    "seasonal_listing = df2['Listing Month'].value_counts(ascending = True)\n",
    "seasonal_listing.plot(kind = 'bar')\n",
    "xlabel('Listing Month')\n",
    "ylabel('Number of Listings')\n",
    "title('Total Listings in Austin by Month') # more postings in the beginning of the year"
   ]
  },
  {
   "cell_type": "code",
   "execution_count": null,
   "metadata": {},
   "outputs": [],
   "source": []
  },
  {
   "cell_type": "code",
   "execution_count": 16,
   "metadata": {},
   "outputs": [
    {
     "data": {
      "text/plain": [
       "<matplotlib.axes._subplots.AxesSubplot at 0x1a19f38490>"
      ]
     },
     "execution_count": 16,
     "metadata": {},
     "output_type": "execute_result"
    },
    {
     "data": {
      "image/png": "[encoded data removed]",
      "text/plain": [
       "<Figure size 432x288 with 1 Axes>"
      ]
     },
     "metadata": {
      "needs_background": "light"
     },
     "output_type": "display_data"
    }
   ],
   "source": [
    "# Price increase (may not be representative as prices could change)\n",
    "growth_price = df2.groupby('Listing Year')['average_rate($)'].mean()\n",
    "growth_price.plot(kind ='bar')"
   ]
  },
  {
   "cell_type": "markdown",
   "metadata": {
    "scrolled": true
   },
   "source": [
    "## Neighborhood Analysis"
   ]
  },
  {
   "cell_type": "code",
   "execution_count": 17,
   "metadata": {
    "scrolled": true
   },
   "outputs": [
    {
     "data": {
      "text/html": [
       "<div>\n",
       "<style scoped>\n",
       "    .dataframe tbody tr th:only-of-type {\n",
       "        vertical-align: middle;\n",
       "    }\n",
       "\n",
       "    .dataframe tbody tr th {\n",
       "        vertical-align: top;\n",
       "    }\n",
       "\n",
       "    .dataframe thead th {\n",
       "        text-align: right;\n",
       "    }\n",
       "</style>\n",
       "<table border=\"1\" class=\"dataframe\">\n",
       "  <thead>\n",
       "    <tr style=\"text-align: right;\">\n",
       "      <th></th>\n",
       "      <th>count</th>\n",
       "      <th>mean</th>\n",
       "    </tr>\n",
       "    <tr>\n",
       "      <th>Zipcode</th>\n",
       "      <th></th>\n",
       "      <th></th>\n",
       "    </tr>\n",
       "  </thead>\n",
       "  <tbody>\n",
       "    <tr>\n",
       "      <th>78704</th>\n",
       "      <td>103</td>\n",
       "      <td>120.135922</td>\n",
       "    </tr>\n",
       "    <tr>\n",
       "      <th>78702</th>\n",
       "      <td>102</td>\n",
       "      <td>131.519608</td>\n",
       "    </tr>\n",
       "    <tr>\n",
       "      <th>78745</th>\n",
       "      <td>72</td>\n",
       "      <td>121.208333</td>\n",
       "    </tr>\n",
       "    <tr>\n",
       "      <th>78613</th>\n",
       "      <td>58</td>\n",
       "      <td>103.965517</td>\n",
       "    </tr>\n",
       "    <tr>\n",
       "      <th>78748</th>\n",
       "      <td>58</td>\n",
       "      <td>77.086207</td>\n",
       "    </tr>\n",
       "    <tr>\n",
       "      <th>78660</th>\n",
       "      <td>57</td>\n",
       "      <td>89.789474</td>\n",
       "    </tr>\n",
       "    <tr>\n",
       "      <th>78640</th>\n",
       "      <td>52</td>\n",
       "      <td>127.634615</td>\n",
       "    </tr>\n",
       "    <tr>\n",
       "      <th>78610</th>\n",
       "      <td>41</td>\n",
       "      <td>146.170732</td>\n",
       "    </tr>\n",
       "    <tr>\n",
       "      <th>78705</th>\n",
       "      <td>41</td>\n",
       "      <td>75.878049</td>\n",
       "    </tr>\n",
       "    <tr>\n",
       "      <th>78751</th>\n",
       "      <td>41</td>\n",
       "      <td>99.951220</td>\n",
       "    </tr>\n",
       "    <tr>\n",
       "      <th>78724</th>\n",
       "      <td>40</td>\n",
       "      <td>130.450000</td>\n",
       "    </tr>\n",
       "    <tr>\n",
       "      <th>78754</th>\n",
       "      <td>40</td>\n",
       "      <td>105.625000</td>\n",
       "    </tr>\n",
       "    <tr>\n",
       "      <th>78749</th>\n",
       "      <td>37</td>\n",
       "      <td>97.837838</td>\n",
       "    </tr>\n",
       "    <tr>\n",
       "      <th>78753</th>\n",
       "      <td>32</td>\n",
       "      <td>89.406250</td>\n",
       "    </tr>\n",
       "    <tr>\n",
       "      <th>78723</th>\n",
       "      <td>30</td>\n",
       "      <td>102.100000</td>\n",
       "    </tr>\n",
       "    <tr>\n",
       "      <th>78701</th>\n",
       "      <td>30</td>\n",
       "      <td>173.966667</td>\n",
       "    </tr>\n",
       "    <tr>\n",
       "      <th>78664</th>\n",
       "      <td>30</td>\n",
       "      <td>86.600000</td>\n",
       "    </tr>\n",
       "    <tr>\n",
       "      <th>78744</th>\n",
       "      <td>27</td>\n",
       "      <td>72.703704</td>\n",
       "    </tr>\n",
       "    <tr>\n",
       "      <th>78703</th>\n",
       "      <td>27</td>\n",
       "      <td>108.481481</td>\n",
       "    </tr>\n",
       "    <tr>\n",
       "      <th>78746</th>\n",
       "      <td>25</td>\n",
       "      <td>196.760000</td>\n",
       "    </tr>\n",
       "    <tr>\n",
       "      <th>78734</th>\n",
       "      <td>22</td>\n",
       "      <td>187.272727</td>\n",
       "    </tr>\n",
       "    <tr>\n",
       "      <th>78729</th>\n",
       "      <td>22</td>\n",
       "      <td>55.136364</td>\n",
       "    </tr>\n",
       "    <tr>\n",
       "      <th>78652</th>\n",
       "      <td>18</td>\n",
       "      <td>153.444444</td>\n",
       "    </tr>\n",
       "    <tr>\n",
       "      <th>78725</th>\n",
       "      <td>18</td>\n",
       "      <td>166.500000</td>\n",
       "    </tr>\n",
       "    <tr>\n",
       "      <th>78737</th>\n",
       "      <td>17</td>\n",
       "      <td>126.117647</td>\n",
       "    </tr>\n",
       "    <tr>\n",
       "      <th>78736</th>\n",
       "      <td>16</td>\n",
       "      <td>138.875000</td>\n",
       "    </tr>\n",
       "    <tr>\n",
       "      <th>78722</th>\n",
       "      <td>15</td>\n",
       "      <td>90.133333</td>\n",
       "    </tr>\n",
       "    <tr>\n",
       "      <th>78758</th>\n",
       "      <td>15</td>\n",
       "      <td>76.866667</td>\n",
       "    </tr>\n",
       "    <tr>\n",
       "      <th>78757</th>\n",
       "      <td>15</td>\n",
       "      <td>73.600000</td>\n",
       "    </tr>\n",
       "    <tr>\n",
       "      <th>78665</th>\n",
       "      <td>15</td>\n",
       "      <td>77.000000</td>\n",
       "    </tr>\n",
       "    <tr>\n",
       "      <th>78741</th>\n",
       "      <td>15</td>\n",
       "      <td>88.266667</td>\n",
       "    </tr>\n",
       "    <tr>\n",
       "      <th>78759</th>\n",
       "      <td>15</td>\n",
       "      <td>72.600000</td>\n",
       "    </tr>\n",
       "    <tr>\n",
       "      <th>78732</th>\n",
       "      <td>15</td>\n",
       "      <td>161.666667</td>\n",
       "    </tr>\n",
       "    <tr>\n",
       "      <th>78731</th>\n",
       "      <td>13</td>\n",
       "      <td>103.692308</td>\n",
       "    </tr>\n",
       "    <tr>\n",
       "      <th>78617</th>\n",
       "      <td>12</td>\n",
       "      <td>148.250000</td>\n",
       "    </tr>\n",
       "    <tr>\n",
       "      <th>78752</th>\n",
       "      <td>11</td>\n",
       "      <td>104.636364</td>\n",
       "    </tr>\n",
       "    <tr>\n",
       "      <th>78735</th>\n",
       "      <td>11</td>\n",
       "      <td>143.727273</td>\n",
       "    </tr>\n",
       "    <tr>\n",
       "      <th>78727</th>\n",
       "      <td>11</td>\n",
       "      <td>58.363636</td>\n",
       "    </tr>\n",
       "    <tr>\n",
       "      <th>78756</th>\n",
       "      <td>10</td>\n",
       "      <td>99.700000</td>\n",
       "    </tr>\n",
       "    <tr>\n",
       "      <th>78733</th>\n",
       "      <td>9</td>\n",
       "      <td>155.222222</td>\n",
       "    </tr>\n",
       "    <tr>\n",
       "      <th>78681</th>\n",
       "      <td>9</td>\n",
       "      <td>69.000000</td>\n",
       "    </tr>\n",
       "    <tr>\n",
       "      <th>78750</th>\n",
       "      <td>8</td>\n",
       "      <td>106.625000</td>\n",
       "    </tr>\n",
       "    <tr>\n",
       "      <th>78728</th>\n",
       "      <td>7</td>\n",
       "      <td>137.714286</td>\n",
       "    </tr>\n",
       "    <tr>\n",
       "      <th>78730</th>\n",
       "      <td>7</td>\n",
       "      <td>151.428571</td>\n",
       "    </tr>\n",
       "    <tr>\n",
       "      <th>78738</th>\n",
       "      <td>7</td>\n",
       "      <td>127.285714</td>\n",
       "    </tr>\n",
       "    <tr>\n",
       "      <th>78739</th>\n",
       "      <td>6</td>\n",
       "      <td>134.166667</td>\n",
       "    </tr>\n",
       "    <tr>\n",
       "      <th>78747</th>\n",
       "      <td>6</td>\n",
       "      <td>41.333333</td>\n",
       "    </tr>\n",
       "    <tr>\n",
       "      <th>78721</th>\n",
       "      <td>5</td>\n",
       "      <td>90.600000</td>\n",
       "    </tr>\n",
       "    <tr>\n",
       "      <th>78717</th>\n",
       "      <td>3</td>\n",
       "      <td>50.000000</td>\n",
       "    </tr>\n",
       "    <tr>\n",
       "      <th>78726</th>\n",
       "      <td>3</td>\n",
       "      <td>249.000000</td>\n",
       "    </tr>\n",
       "    <tr>\n",
       "      <th>78642</th>\n",
       "      <td>1</td>\n",
       "      <td>150.000000</td>\n",
       "    </tr>\n",
       "    <tr>\n",
       "      <th>78634</th>\n",
       "      <td>1</td>\n",
       "      <td>280.000000</td>\n",
       "    </tr>\n",
       "    <tr>\n",
       "      <th>78628</th>\n",
       "      <td>1</td>\n",
       "      <td>350.000000</td>\n",
       "    </tr>\n",
       "    <tr>\n",
       "      <th>78620</th>\n",
       "      <td>1</td>\n",
       "      <td>135.000000</td>\n",
       "    </tr>\n",
       "  </tbody>\n",
       "</table>\n",
       "</div>"
      ],
      "text/plain": [
       "         count        mean\n",
       "Zipcode                   \n",
       "78704      103  120.135922\n",
       "78702      102  131.519608\n",
       "78745       72  121.208333\n",
       "78613       58  103.965517\n",
       "78748       58   77.086207\n",
       "78660       57   89.789474\n",
       "78640       52  127.634615\n",
       "78610       41  146.170732\n",
       "78705       41   75.878049\n",
       "78751       41   99.951220\n",
       "78724       40  130.450000\n",
       "78754       40  105.625000\n",
       "78749       37   97.837838\n",
       "78753       32   89.406250\n",
       "78723       30  102.100000\n",
       "78701       30  173.966667\n",
       "78664       30   86.600000\n",
       "78744       27   72.703704\n",
       "78703       27  108.481481\n",
       "78746       25  196.760000\n",
       "78734       22  187.272727\n",
       "78729       22   55.136364\n",
       "78652       18  153.444444\n",
       "78725       18  166.500000\n",
       "78737       17  126.117647\n",
       "78736       16  138.875000\n",
       "78722       15   90.133333\n",
       "78758       15   76.866667\n",
       "78757       15   73.600000\n",
       "78665       15   77.000000\n",
       "78741       15   88.266667\n",
       "78759       15   72.600000\n",
       "78732       15  161.666667\n",
       "78731       13  103.692308\n",
       "78617       12  148.250000\n",
       "78752       11  104.636364\n",
       "78735       11  143.727273\n",
       "78727       11   58.363636\n",
       "78756       10   99.700000\n",
       "78733        9  155.222222\n",
       "78681        9   69.000000\n",
       "78750        8  106.625000\n",
       "78728        7  137.714286\n",
       "78730        7  151.428571\n",
       "78738        7  127.285714\n",
       "78739        6  134.166667\n",
       "78747        6   41.333333\n",
       "78721        5   90.600000\n",
       "78717        3   50.000000\n",
       "78726        3  249.000000\n",
       "78642        1  150.000000\n",
       "78634        1  280.000000\n",
       "78628        1  350.000000\n",
       "78620        1  135.000000"
      ]
     },
     "execution_count": 17,
     "metadata": {},
     "output_type": "execute_result"
    }
   ],
   "source": [
    "# Listing price and count by zip\n",
    "zip_rate = df2.groupby(['Zipcode'])['average_rate($)'].agg(['count','mean'])\n",
    "# zip_rate.sort_values(by='mean',ascending=False)\n",
    "zip_rate.sort_values(by='count', ascending = False) # There are some zipcodes with only 1 or 2 listings\n",
    "# 1's below: Dripping Springs, Sun City, Hutto | 2/3/5: Liberty Hill (clsoe to Georgetown), Jollyville, east East Austin\n",
    "# Look at only zipcodes with > 30 listings"
   ]
  },
  {
   "cell_type": "code",
   "execution_count": 18,
   "metadata": {},
   "outputs": [
    {
     "name": "stdout",
     "output_type": "stream",
     "text": [
      "54\n",
      "17\n"
     ]
    }
   ],
   "source": [
    "print (len(zip_rate)) #54 zip codes total\n",
    "# sort_values(by='count',ascending=False)\n",
    "mask = zip_rate['count'] >= 30\n",
    "print (len(zip_rate[mask]))"
   ]
  },
  {
   "cell_type": "code",
   "execution_count": 19,
   "metadata": {},
   "outputs": [
    {
     "data": {
      "image/png": "[encoded data removed]",
      "text/plain": [
       "<Figure size 1800x1080 with 1 Axes>"
      ]
     },
     "metadata": {},
     "output_type": "display_data"
    }
   ],
   "source": [
    "import matplotlib.ticker as ticker\n",
    "sns.set(style=\"whitegrid\")\n",
    "fig, ax = plt.subplots()\n",
    "fig.set_size_inches(25, 15)\n",
    "ax.axes.set_title(\"Listings by Zipcode\",fontsize=40,pad=40)\n",
    "ax = sns.countplot(x='Zipcode',data=df2, order = df2['Zipcode'].value_counts().iloc[:25].index, palette=\"Set3\")\n",
    "ax.set_xlabel('Number of Listings',fontsize=30,labelpad=30)\n",
    "ax.set_ylabel('Zipcodes',fontsize=30,labelpad=30)\n",
    "ax.xaxis.set_tick_params(labelsize=20, rotation = 45)\n",
    "ax.yaxis.set_tick_params(labelsize=25)\n",
    "ax.yaxis.set_major_locator(ticker.MultipleLocator(10))\n",
    "ax.yaxis.set_major_formatter(ticker.ScalarFormatter())"
   ]
  },
  {
   "cell_type": "code",
   "execution_count": 20,
   "metadata": {},
   "outputs": [],
   "source": [
    "# Price by zipcode\n",
    "df_avg_price = DataFrame(df2.groupby(['Zipcode'])['average_rate($)'].mean().reset_index())\n",
    "# df_avg_price['Zipcode'] = df_avg_price['Zipcode'].astype(str)\n",
    "top = df2['Zipcode'].value_counts().iloc[:17].index.tolist()\n",
    "top_price = df_avg_price[df_avg_price['Zipcode'].isin(top)].sort_values('average_rate($)',ascending=False)[:17].reset_index()"
   ]
  },
  {
   "cell_type": "markdown",
   "metadata": {},
   "source": [
    "# Kelly help - make it descending; or we could use barplot in base Python"
   ]
  },
  {
   "cell_type": "code",
   "execution_count": 21,
   "metadata": {},
   "outputs": [
    {
     "data": {
      "image/png": "[encoded data removed]",
      "text/plain": [
       "<Figure size 1800x1080 with 1 Axes>"
      ]
     },
     "metadata": {},
     "output_type": "display_data"
    }
   ],
   "source": [
    "fig, ax = plt.subplots()\n",
    "fig.set_size_inches(25, 15)\n",
    "  \n",
    "ax.axes.set_title(\"Average Price in Top Neigborhood\",fontsize=40, pad=40)\n",
    "ax = sns.barplot(y='average_rate($)',x ='Zipcode',\n",
    "                 data = top_price,\n",
    "                 palette='Set3')\n",
    "ax.set_xlabel('Neighborhood',fontsize=30,labelpad=30)\n",
    "ax.set_ylabel('Avg. Price ($)',fontsize=30,labelpad=30)\n",
    "ax.xaxis.set_tick_params(labelsize=20, rotation = 45)\n",
    "ax.yaxis.set_tick_params(labelsize=20)"
   ]
  },
  {
   "cell_type": "code",
   "execution_count": 22,
   "metadata": {},
   "outputs": [
    {
     "name": "stdout",
     "output_type": "stream",
     "text": [
      "Working on  78749\n",
      "(37, 2)\n"
     ]
    },
    {
     "ename": "IOError",
     "evalue": "[Errno 2] No such file or directory: 'Rate_and_RmCount_Histograms/78749.jpeg'",
     "output_type": "error",
     "traceback": [
      "\u001b[0;31m---------------------------------------------------------------------------\u001b[0m",
      "\u001b[0;31mIOError\u001b[0m                                   Traceback (most recent call last)",
      "\u001b[0;32m<ipython-input-22-5d65f9ff00d7>\u001b[0m in \u001b[0;36m<module>\u001b[0;34m()\u001b[0m\n\u001b[1;32m     22\u001b[0m \u001b[0;32mfor\u001b[0m \u001b[0mzipcode\u001b[0m \u001b[0;32min\u001b[0m \u001b[0mset\u001b[0m\u001b[0;34m(\u001b[0m\u001b[0mdf\u001b[0m\u001b[0;34m[\u001b[0m\u001b[0;34m\"Zipcode\"\u001b[0m\u001b[0;34m]\u001b[0m\u001b[0;34m)\u001b[0m\u001b[0;34m:\u001b[0m\u001b[0;34m\u001b[0m\u001b[0m\n\u001b[1;32m     23\u001b[0m     \u001b[0;32mprint\u001b[0m \u001b[0;34m\"Working on \"\u001b[0m\u001b[0;34m,\u001b[0m \u001b[0mzipcode\u001b[0m\u001b[0;34m\u001b[0m\u001b[0m\n\u001b[0;32m---> 24\u001b[0;31m     \u001b[0mziptojpeg\u001b[0m\u001b[0;34m(\u001b[0m\u001b[0minputzip\u001b[0m\u001b[0;34m=\u001b[0m\u001b[0mzipcode\u001b[0m\u001b[0;34m,\u001b[0m \u001b[0mdf\u001b[0m\u001b[0;34m=\u001b[0m\u001b[0mdf2\u001b[0m\u001b[0;34m,\u001b[0m \u001b[0moutputpath\u001b[0m\u001b[0;34m=\u001b[0m\u001b[0;34m'Rate_and_RmCount_Histograms'\u001b[0m\u001b[0;34m)\u001b[0m\u001b[0;34m\u001b[0m\u001b[0m\n\u001b[0m",
      "\u001b[0;32m<ipython-input-22-5d65f9ff00d7>\u001b[0m in \u001b[0;36mziptojpeg\u001b[0;34m(inputzip, df, outputpath)\u001b[0m\n\u001b[1;32m     18\u001b[0m     \u001b[0mresult\u001b[0m\u001b[0;34m.\u001b[0m\u001b[0mhist\u001b[0m\u001b[0;34m(\u001b[0m\u001b[0;34m)\u001b[0m\u001b[0;34m\u001b[0m\u001b[0m\n\u001b[1;32m     19\u001b[0m     \u001b[0moutputfile\u001b[0m \u001b[0;34m=\u001b[0m \u001b[0mos\u001b[0m\u001b[0;34m.\u001b[0m\u001b[0mpath\u001b[0m\u001b[0;34m.\u001b[0m\u001b[0mjoin\u001b[0m\u001b[0;34m(\u001b[0m\u001b[0moutputpath\u001b[0m\u001b[0;34m,\u001b[0m \u001b[0minputzip\u001b[0m \u001b[0;34m+\u001b[0m \u001b[0;34m\".jpeg\"\u001b[0m\u001b[0;34m)\u001b[0m\u001b[0;34m\u001b[0m\u001b[0m\n\u001b[0;32m---> 20\u001b[0;31m     \u001b[0mplt\u001b[0m\u001b[0;34m.\u001b[0m\u001b[0msavefig\u001b[0m\u001b[0;34m(\u001b[0m\u001b[0moutputfile\u001b[0m\u001b[0;34m)\u001b[0m\u001b[0;34m\u001b[0m\u001b[0m\n\u001b[0m\u001b[1;32m     21\u001b[0m \u001b[0;34m\u001b[0m\u001b[0m\n\u001b[1;32m     22\u001b[0m \u001b[0;32mfor\u001b[0m \u001b[0mzipcode\u001b[0m \u001b[0;32min\u001b[0m \u001b[0mset\u001b[0m\u001b[0;34m(\u001b[0m\u001b[0mdf\u001b[0m\u001b[0;34m[\u001b[0m\u001b[0;34m\"Zipcode\"\u001b[0m\u001b[0;34m]\u001b[0m\u001b[0;34m)\u001b[0m\u001b[0;34m:\u001b[0m\u001b[0;34m\u001b[0m\u001b[0m\n",
      "\u001b[0;32m/Users/GrantZhong/anaconda2/lib/python2.7/site-packages/matplotlib/pyplot.pyc\u001b[0m in \u001b[0;36msavefig\u001b[0;34m(*args, **kwargs)\u001b[0m\n\u001b[1;32m    693\u001b[0m \u001b[0;32mdef\u001b[0m \u001b[0msavefig\u001b[0m\u001b[0;34m(\u001b[0m\u001b[0;34m*\u001b[0m\u001b[0margs\u001b[0m\u001b[0;34m,\u001b[0m \u001b[0;34m**\u001b[0m\u001b[0mkwargs\u001b[0m\u001b[0;34m)\u001b[0m\u001b[0;34m:\u001b[0m\u001b[0;34m\u001b[0m\u001b[0m\n\u001b[1;32m    694\u001b[0m     \u001b[0mfig\u001b[0m \u001b[0;34m=\u001b[0m \u001b[0mgcf\u001b[0m\u001b[0;34m(\u001b[0m\u001b[0;34m)\u001b[0m\u001b[0;34m\u001b[0m\u001b[0m\n\u001b[0;32m--> 695\u001b[0;31m     \u001b[0mres\u001b[0m \u001b[0;34m=\u001b[0m \u001b[0mfig\u001b[0m\u001b[0;34m.\u001b[0m\u001b[0msavefig\u001b[0m\u001b[0;34m(\u001b[0m\u001b[0;34m*\u001b[0m\u001b[0margs\u001b[0m\u001b[0;34m,\u001b[0m \u001b[0;34m**\u001b[0m\u001b[0mkwargs\u001b[0m\u001b[0;34m)\u001b[0m\u001b[0;34m\u001b[0m\u001b[0m\n\u001b[0m\u001b[1;32m    696\u001b[0m     \u001b[0mfig\u001b[0m\u001b[0;34m.\u001b[0m\u001b[0mcanvas\u001b[0m\u001b[0;34m.\u001b[0m\u001b[0mdraw_idle\u001b[0m\u001b[0;34m(\u001b[0m\u001b[0;34m)\u001b[0m   \u001b[0;31m# need this if 'transparent=True' to reset colors\u001b[0m\u001b[0;34m\u001b[0m\u001b[0m\n\u001b[1;32m    697\u001b[0m     \u001b[0;32mreturn\u001b[0m \u001b[0mres\u001b[0m\u001b[0;34m\u001b[0m\u001b[0m\n",
      "\u001b[0;32m/Users/GrantZhong/anaconda2/lib/python2.7/site-packages/matplotlib/figure.pyc\u001b[0m in \u001b[0;36msavefig\u001b[0;34m(self, fname, **kwargs)\u001b[0m\n\u001b[1;32m   2060\u001b[0m             \u001b[0mself\u001b[0m\u001b[0;34m.\u001b[0m\u001b[0mset_frameon\u001b[0m\u001b[0;34m(\u001b[0m\u001b[0mframeon\u001b[0m\u001b[0;34m)\u001b[0m\u001b[0;34m\u001b[0m\u001b[0m\n\u001b[1;32m   2061\u001b[0m \u001b[0;34m\u001b[0m\u001b[0m\n\u001b[0;32m-> 2062\u001b[0;31m         \u001b[0mself\u001b[0m\u001b[0;34m.\u001b[0m\u001b[0mcanvas\u001b[0m\u001b[0;34m.\u001b[0m\u001b[0mprint_figure\u001b[0m\u001b[0;34m(\u001b[0m\u001b[0mfname\u001b[0m\u001b[0;34m,\u001b[0m \u001b[0;34m**\u001b[0m\u001b[0mkwargs\u001b[0m\u001b[0;34m)\u001b[0m\u001b[0;34m\u001b[0m\u001b[0m\n\u001b[0m\u001b[1;32m   2063\u001b[0m \u001b[0;34m\u001b[0m\u001b[0m\n\u001b[1;32m   2064\u001b[0m         \u001b[0;32mif\u001b[0m \u001b[0mframeon\u001b[0m\u001b[0;34m:\u001b[0m\u001b[0;34m\u001b[0m\u001b[0m\n",
      "\u001b[0;32m/Users/GrantZhong/anaconda2/lib/python2.7/site-packages/matplotlib/backend_bases.pyc\u001b[0m in \u001b[0;36mprint_figure\u001b[0;34m(self, filename, dpi, facecolor, edgecolor, orientation, format, **kwargs)\u001b[0m\n\u001b[1;32m   2261\u001b[0m                 \u001b[0morientation\u001b[0m\u001b[0;34m=\u001b[0m\u001b[0morientation\u001b[0m\u001b[0;34m,\u001b[0m\u001b[0;34m\u001b[0m\u001b[0m\n\u001b[1;32m   2262\u001b[0m                 \u001b[0mbbox_inches_restore\u001b[0m\u001b[0;34m=\u001b[0m\u001b[0m_bbox_inches_restore\u001b[0m\u001b[0;34m,\u001b[0m\u001b[0;34m\u001b[0m\u001b[0m\n\u001b[0;32m-> 2263\u001b[0;31m                 **kwargs)\n\u001b[0m\u001b[1;32m   2264\u001b[0m         \u001b[0;32mfinally\u001b[0m\u001b[0;34m:\u001b[0m\u001b[0;34m\u001b[0m\u001b[0m\n\u001b[1;32m   2265\u001b[0m             \u001b[0;32mif\u001b[0m \u001b[0mbbox_inches\u001b[0m \u001b[0;32mand\u001b[0m \u001b[0mrestore_bbox\u001b[0m\u001b[0;34m:\u001b[0m\u001b[0;34m\u001b[0m\u001b[0m\n",
      "\u001b[0;32m/Users/GrantZhong/anaconda2/lib/python2.7/site-packages/matplotlib/backends/backend_agg.pyc\u001b[0m in \u001b[0;36mprint_jpg\u001b[0;34m(self, filename_or_obj, *args, **kwargs)\u001b[0m\n\u001b[1;32m    586\u001b[0m                 \u001b[0moptions\u001b[0m\u001b[0;34m[\u001b[0m\u001b[0;34m'dpi'\u001b[0m\u001b[0;34m]\u001b[0m \u001b[0;34m=\u001b[0m \u001b[0;34m(\u001b[0m\u001b[0moptions\u001b[0m\u001b[0;34m[\u001b[0m\u001b[0;34m'dpi'\u001b[0m\u001b[0;34m]\u001b[0m\u001b[0;34m,\u001b[0m \u001b[0moptions\u001b[0m\u001b[0;34m[\u001b[0m\u001b[0;34m'dpi'\u001b[0m\u001b[0;34m]\u001b[0m\u001b[0;34m)\u001b[0m\u001b[0;34m\u001b[0m\u001b[0m\n\u001b[1;32m    587\u001b[0m \u001b[0;34m\u001b[0m\u001b[0m\n\u001b[0;32m--> 588\u001b[0;31m             \u001b[0;32mreturn\u001b[0m \u001b[0mbackground\u001b[0m\u001b[0;34m.\u001b[0m\u001b[0msave\u001b[0m\u001b[0;34m(\u001b[0m\u001b[0mfilename_or_obj\u001b[0m\u001b[0;34m,\u001b[0m \u001b[0mformat\u001b[0m\u001b[0;34m=\u001b[0m\u001b[0;34m'jpeg'\u001b[0m\u001b[0;34m,\u001b[0m \u001b[0;34m**\u001b[0m\u001b[0moptions\u001b[0m\u001b[0;34m)\u001b[0m\u001b[0;34m\u001b[0m\u001b[0m\n\u001b[0m\u001b[1;32m    589\u001b[0m         \u001b[0mprint_jpeg\u001b[0m \u001b[0;34m=\u001b[0m \u001b[0mprint_jpg\u001b[0m\u001b[0;34m\u001b[0m\u001b[0m\n\u001b[1;32m    590\u001b[0m \u001b[0;34m\u001b[0m\u001b[0m\n",
      "\u001b[0;32m/Users/GrantZhong/anaconda2/lib/python2.7/site-packages/PIL/Image.pyc\u001b[0m in \u001b[0;36msave\u001b[0;34m(self, fp, format, **params)\u001b[0m\n\u001b[1;32m   1989\u001b[0m                 \u001b[0;31m# Open also for reading (\"+\"), because TIFF save_all\u001b[0m\u001b[0;34m\u001b[0m\u001b[0;34m\u001b[0m\u001b[0m\n\u001b[1;32m   1990\u001b[0m                 \u001b[0;31m# writer needs to go back and edit the written data.\u001b[0m\u001b[0;34m\u001b[0m\u001b[0;34m\u001b[0m\u001b[0m\n\u001b[0;32m-> 1991\u001b[0;31m                 \u001b[0mfp\u001b[0m \u001b[0;34m=\u001b[0m \u001b[0mbuiltins\u001b[0m\u001b[0;34m.\u001b[0m\u001b[0mopen\u001b[0m\u001b[0;34m(\u001b[0m\u001b[0mfilename\u001b[0m\u001b[0;34m,\u001b[0m \u001b[0;34m\"w+b\"\u001b[0m\u001b[0;34m)\u001b[0m\u001b[0;34m\u001b[0m\u001b[0m\n\u001b[0m\u001b[1;32m   1992\u001b[0m \u001b[0;34m\u001b[0m\u001b[0m\n\u001b[1;32m   1993\u001b[0m         \u001b[0;32mtry\u001b[0m\u001b[0;34m:\u001b[0m\u001b[0;34m\u001b[0m\u001b[0m\n",
      "\u001b[0;31mIOError\u001b[0m: [Errno 2] No such file or directory: 'Rate_and_RmCount_Histograms/78749.jpeg'"
     ]
    },
    {
     "data": {
      "image/png": "[encoded data removed]",
      "text/plain": [
       "<Figure size 432x288 with 2 Axes>"
      ]
     },
     "metadata": {},
     "output_type": "display_data"
    }
   ],
   "source": [
    "# Histograms of room rates and room numbers by zipcode\n",
    "import os\n",
    "\n",
    "def ziptojpeg (inputzip, df, outputpath):\n",
    "    \"\"\"\n",
    "    ziptojpeg takes a zipcode and plots two histograms, one for average rates and another for the number of bedrooms\n",
    "    Args: \n",
    "        inputzip (str): your desired zipcode\n",
    "        df (dataframe): the dataframe from which to extract data from\n",
    "        outputpath (str): the path to which to write the write\n",
    "    Returns:\n",
    "        writes to a jpeg file\n",
    "    \"\"\"\n",
    "    # Pull the correct data from df\n",
    "    result = df[df['Zipcode'] == inputzip][['average_rate($)', 'num_of_bedrooms']]\n",
    "    print result.shape\n",
    "    # Write the result to a file\n",
    "    result.hist()\n",
    "    outputfile = os.path.join(outputpath, inputzip + \".jpeg\")\n",
    "    plt.savefig(outputfile)\n",
    "\n",
    "for zipcode in set(df[\"Zipcode\"]):\n",
    "    print \"Working on \", zipcode\n",
    "    ziptojpeg(inputzip=zipcode, df=df2, outputpath='Rate_and_RmCount_Histograms')"
   ]
  },
  {
   "cell_type": "code",
   "execution_count": null,
   "metadata": {},
   "outputs": [],
   "source": [
    "df[:2]"
   ]
  },
  {
   "cell_type": "markdown",
   "metadata": {},
   "source": [
    "## Word Count Analysis - Not Really Useful"
   ]
  },
  {
   "cell_type": "code",
   "execution_count": null,
   "metadata": {},
   "outputs": [],
   "source": [
    "# Title word count on price; can include this in a regression model\n",
    "titlecount_rate = df2.groupby('title_word_count')['average_rate($)'].agg(['count','mean'])\n",
    "titlecount_rate"
   ]
  },
  {
   "cell_type": "code",
   "execution_count": null,
   "metadata": {},
   "outputs": [],
   "source": [
    "# description word count on price\n",
    "descriptioncount_rate = df2.groupby('description_word_count')['average_rate($)'].agg(['count','mean'])\n",
    "descriptioncount_rate.sort_values(by='mean',ascending=False)"
   ]
  },
  {
   "cell_type": "markdown",
   "metadata": {},
   "source": [
    "# Text Analysis on Description"
   ]
  },
  {
   "cell_type": "code",
   "execution_count": null,
   "metadata": {},
   "outputs": [],
   "source": [
    "# Steps: split on description, stop words, count words, find top 10 words, then find in descriptions\n",
    "# import stop words\n",
    "import nltk\n",
    "nltk.download('stopwords')\n",
    "# Stop words... this is not really used\n",
    "from nltk.corpus import stopwords\n",
    "stop_words = set(stopwords.words('english'))"
   ]
  },
  {
   "cell_type": "code",
   "execution_count": null,
   "metadata": {},
   "outputs": [],
   "source": [
    "# split description\n",
    "import re\n",
    "def words_from_description(description):\n",
    "    \"\"\"\n",
    "    words_from_description splits words from the given string into a list of words\n",
    "    args:\n",
    "        description (string): one string object that user would like to split into words\n",
    "    returns:\n",
    "        a list of words\n",
    "    \"\"\"\n",
    "    prelimsplitwords = re.split('\\W+', description.lower()) #splits by anything that's not [a_zA_Z0-9_] and removes punctuations\n",
    "    splitwords = [word for word in prelimsplitwords if word not in stop_words and word != \"\"] #stop words and remove empty string\n",
    "    # Do we need to deal with \\n? doesn't seem like it...\n",
    "    return splitwords\n",
    "\n",
    "print words_from_description(\"*Not an actual Treehouse\\n\\nWelcome to my spacious 1 bedroom apartment located on the 2nd floor. Huge windows, a working fireplace, laminate hardwood floors, wifi, and a comfortable queen size bed are just a few perks this great space offers. I offer a self check-in so you are welcome to arrive anytime after the check-in time that's convenient for you.\") # sample execution"
   ]
  },
  {
   "cell_type": "code",
   "execution_count": null,
   "metadata": {},
   "outputs": [],
   "source": [
    "# create a dictionary with descriptions and split words\n",
    "import collections\n",
    "description_dict = {}\n",
    "# go through all quotes, key:dictionary{word:counter}\n",
    "for description in df2['description']: \n",
    "    description_dict[description] = {}\n",
    "    word = words_from_description(description)\n",
    "    word_count = collections.Counter(word)\n",
    "    description_dict[description] = word_count"
   ]
  },
  {
   "cell_type": "code",
   "execution_count": null,
   "metadata": {},
   "outputs": [],
   "source": [
    "# Create a dictionary of description dict's words for counts\n",
    "word_count_dict = {}\n",
    "for key in description_dict: \n",
    "    words = words_from_description(key)\n",
    "    for word in words:\n",
    "        if word not in word_count_dict:\n",
    "            word_count_dict[word] = 0"
   ]
  },
  {
   "cell_type": "markdown",
   "metadata": {},
   "source": [
    "# THIS ONE TAKES >= 5MIN!"
   ]
  },
  {
   "cell_type": "code",
   "execution_count": null,
   "metadata": {},
   "outputs": [],
   "source": [
    "#update the dictionary set up above with word count\n",
    "for key in word_count_dict: \n",
    "    for sentence_key in description_dict:\n",
    "        words = words_from_description(sentence_key)\n",
    "        if key in words:\n",
    "            matches = [i for i in words if i == key] \n",
    "            word_count_dict[key] += len(matches)"
   ]
  },
  {
   "cell_type": "code",
   "execution_count": null,
   "metadata": {},
   "outputs": [],
   "source": [
    "len(word_count_dict)"
   ]
  },
  {
   "cell_type": "code",
   "execution_count": null,
   "metadata": {},
   "outputs": [],
   "source": [
    "word_count_dict # Still need to get rid of \\n... why? didn't seem to be a problem in split words"
   ]
  },
  {
   "cell_type": "code",
   "execution_count": null,
   "metadata": {},
   "outputs": [],
   "source": [
    "sorted_word_count = sorted(word_count_dict.items(), key=lambda x: x[1], reverse = True)\n",
    "sorted_word_count[70:100]"
   ]
  },
  {
   "cell_type": "markdown",
   "metadata": {},
   "source": [
    "# Next steps:\n",
    "1. Manually take out words to use as our extra columns (15): Austin, DT, home, private, place, room, bed, minutes, house, close, neighborhood, bedroom, \n",
    "\n",
    "2. We need to exclude outliers (> 2 stdev away) and exclude zipcodes with < 30 listings (15 zipcodes) before modeling\n",
    "3. Convert Zipcodes and key words as categorical variables - binning adjacent zipcodes\n",
    "4. Models: regression, tree, and possibly KNN"
   ]
  },
  {
   "cell_type": "code",
   "execution_count": null,
   "metadata": {},
   "outputs": [],
   "source": [
    "# From top 20\n",
    "top_key_words = ['kitchen', 'downtown', 'home', 'private', 'place', \n",
    "             'room', 'bed', 'minutes', 'house', 'close', \n",
    "             'neighborhood','bedroom', 'quiet', 'restaurants',]\n",
    "# \"medium-used\" (still > 100) interesting key words\n",
    "interesting_key_words = ['pool', 'airport', 'love', 'coffee', 'couples',\n",
    "                        'business','walk','comfortable', 'modern']"
   ]
  },
  {
   "cell_type": "code",
   "execution_count": null,
   "metadata": {},
   "outputs": [],
   "source": [
    "# Special packages\n",
    "import statsmodels.api as sm\n",
    "from patsy import dmatrices\n",
    "df2 = df2.rename(columns={'average_rate($)':'rate'})\n",
    "zip_rate = df2.groupby(['Zipcode'])['rate'].agg(['count','mean'])\n",
    "mask = zip_rate['count'] >= 30\n",
    "zip_rate_mskd = zip_rate[mask]\n",
    "zip_rate_mskd =zip_rate_mskd.reset_index()\n",
    "mask = (df2['Zipcode'].isin(zip_rate_mskd['Zipcode']))\n",
    "df2 = df2[mask]\n",
    "\n",
    "df3 = pd.get_dummies(df2,columns=['Zipcode'])\n",
    "df3.shape\n",
    "\n",
    "df3 = df3.reset_index()\n",
    "df3 = df3.drop('index',axis=1)"
   ]
  },
  {
   "cell_type": "code",
   "execution_count": null,
   "metadata": {},
   "outputs": [],
   "source": [
    "#Convert key words into separate, binary columns 0~1\n",
    "\n",
    "# From top 20\n",
    "top_key_words = ['kitchen', 'downtown', 'home', 'private', 'place',\n",
    "            'room', 'bed', 'minutes', 'house', 'close',\n",
    "            'neighborhood','bedroom', 'quiet', 'restaurants',]\n",
    "# \"medium-used\" (still > 100) interesting key words\n",
    "interesting_key_words = ['pool', 'airport', 'love', 'coffee', 'couples',\n",
    "                       'business','walk','comfortable', 'modern']\n",
    "\n",
    "\n",
    "for word in top_key_words:\n",
    "    for i in range(df3.shape[0]):\n",
    "            if word in df3['description'][i]:\n",
    "                df3[word]= 1\n",
    "            else:\n",
    "                df3[word]=0\n",
    "\n",
    "for word in interesting_key_words:\n",
    "    for j in range(df3.shape[0]):\n",
    "        if word in df3['description'][j]:\n",
    "            df3[word]=1\n",
    "        else:\n",
    "            df3[word]=0"
   ]
  },
  {
   "cell_type": "code",
   "execution_count": null,
   "metadata": {},
   "outputs": [],
   "source": [
    "df3 = df3.drop(['city','date_of_listing','description','Listing Month','Listing Year','title','url'],axis=1)\n",
    "df3.columns.values\n"
   ]
  },
  {
   "cell_type": "code",
   "execution_count": null,
   "metadata": {
    "scrolled": true
   },
   "outputs": [],
   "source": [
    "#Multi-Regression Modeling\n",
    "all_column_names = df3.columns.values[1:]\n",
    "\n",
    "formula = 'rate ~ {}'.format(' + '.join(['Q(\"{}\")'.format(x) for x in all_column_names]))\n",
    "\n",
    "y, X = dmatrices(formula,df3,return_type='dataframe')\n",
    "from sklearn.model_selection import train_test_split\n",
    "\n",
    "X_train, X_test, y_train, y_test = train_test_split(X, y, test_size=0.5, random_state=1)\n",
    "\n",
    "model_train = sm.OLS(y_train, X_train)\n",
    "result_train = model_train.fit()\n",
    "print result_train.summary()"
   ]
  },
  {
   "cell_type": "code",
   "execution_count": null,
   "metadata": {},
   "outputs": [],
   "source": [
    "from sklearn.linear_model import LinearRegression\n",
    "model2_train = LinearRegression().fit(X_train,y_train)\n",
    "predict_results = model2_train.predict(X_test)\n",
    "\n",
    "y_test_values = y_test['rate'].values.astype(int)\n",
    "\n",
    "MSE = (predict_results-y_test_values)\n",
    "\n",
    "for i in range(len(MSE)):\n",
    "    MSE[i]= MSE[i]**2\n",
    "    \n",
    "\n",
    "total = mean(MSE)\n",
    "RMSE = sqrt(total)\n",
    "\n",
    "\n",
    "print 'The RMSE of our model is',RMSE, 'oh god..'\n",
    "    "
   ]
  },
  {
   "cell_type": "code",
   "execution_count": null,
   "metadata": {},
   "outputs": [],
   "source": []
  }
 ],
 "metadata": {
  "kernelspec": {
   "display_name": "Python 2",
   "language": "python",
   "name": "python2"
  },
  "language_info": {
   "codemirror_mode": {
    "name": "ipython",
    "version": 2
   },
   "file_extension": ".py",
   "mimetype": "text/x-python",
   "name": "python",
   "nbconvert_exporter": "python",
   "pygments_lexer": "ipython2",
   "version": "2.7.16"
  }
 },
 "nbformat": 4,
 "nbformat_minor": 2
}
